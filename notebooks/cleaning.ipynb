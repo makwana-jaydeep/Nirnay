{
 "cells": [
  {
   "cell_type": "code",
   "execution_count": null,
   "id": "93a1912e",
   "metadata": {},
   "outputs": [],
   "source": [
    "import pandas as pd\n",
    "import re \n",
    "import json"
   ]
  },
  {
   "cell_type": "code",
   "execution_count": null,
   "id": "0ee7e2ef",
   "metadata": {},
   "outputs": [],
   "source": [
    "df = pd.read_csv(\"career_data.csv\")\n",
    "df.head()"
   ]
  },
  {
   "cell_type": "code",
   "execution_count": null,
   "id": "788af423",
   "metadata": {},
   "outputs": [],
   "source": [
    "df[['Degree',\"Discipline\"]] = df['Degree'].str.extract(r'(\\w+)\\s+(.*)')"
   ]
  },
  {
   "cell_type": "code",
   "execution_count": null,
   "id": "5004c8ec",
   "metadata": {},
   "outputs": [],
   "source": [
    "df_reorder = df.iloc[:,[0,9,1,2,3,4,5,6,7,8]]\n",
    "df_reorder.head()"
   ]
  },
  {
   "cell_type": "code",
   "execution_count": null,
   "id": "637bbb1f",
   "metadata": {},
   "outputs": [],
   "source": [
    "\n",
    "def parse_exp(exp):\n",
    "    if pd.isna(exp) or exp.lower() == 'none':\n",
    "        return 0.0\n",
    "\n",
    "    if 'internship' in exp: \n",
    "        return 0.5\n",
    "        \n",
    "    match = re.search(r'(\\d+(\\.\\d+)?)',exp)\n",
    "    \n",
    "    if match: \n",
    "        return float(match.group(1))\n",
    "    \n",
    "    return 0.0\n",
    "\n",
    "df_reorder['Experience'] = df_reorder['Experience'].apply(parse_exp)"
   ]
  },
  {
   "cell_type": "code",
   "execution_count": null,
   "id": "5153fa02",
   "metadata": {},
   "outputs": [],
   "source": [
    "def fin_sup_convert(text):\n",
    "    if text == \"Higher\":\n",
    "        return 1.0\n",
    "    if text == \"Low\":\n",
    "        return 0.0\n",
    "    return 0.5\n",
    "\n",
    "df_reorder['Financial Support']= df_reorder['Financial Support'].apply(fin_sup_convert)"
   ]
  },
  {
   "cell_type": "code",
   "execution_count": null,
   "id": "1a2cd02a",
   "metadata": {},
   "outputs": [],
   "source": [
    "df_reorder.to_csv(\"cleaned_data.csv\",index=False)"
   ]
  },
  {
   "cell_type": "code",
   "execution_count": null,
   "id": "1706fb0f",
   "metadata": {},
   "outputs": [],
   "source": [
    "data = pd.read_csv(\"cleaned_data.csv\")\n",
    "\n",
    "with open(\"fine_tune_data.jsonl\",'w',encoding=\"utf-8\") as f :\n",
    "\n",
    "  for _,row in data.iterrows():\n",
    "    input_text = (\n",
    "            f\"Degree: {row['Degree']}, \"\n",
    "            f\"Discipline: {row['Discipline']}, \"\n",
    "            f\"Skills: {row['Skills']}, \"\n",
    "            f\"Experience: {row['Experience']}, \"\n",
    "            f\"CGPA: {row['CGPA']}, \"\n",
    "            f\"Competitive Exam: {row['Competitive Exam']}, \"\n",
    "            f\"Interest: {row['Interest']}, \"\n",
    "            f\"Financial Support: {row['Financial Support']}\"\n",
    "        )\n",
    "    \n",
    "    output_text = row['Advice']\n",
    "\n",
    "    json.dump({'input': input_text, \"output\": output_text},f,ensure_ascii=False)\n",
    "    f.write('\\n')\n",
    "  print(\"JSON created successfully\")\n"
   ]
  }
 ],
 "metadata": {
  "language_info": {
   "name": "python"
  }
 },
 "nbformat": 4,
 "nbformat_minor": 5
}
