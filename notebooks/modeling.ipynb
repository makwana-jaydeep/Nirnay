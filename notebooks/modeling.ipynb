{
 "cells": [
  {
   "cell_type": "code",
   "execution_count": null,
   "id": "a5d73fbc",
   "metadata": {},
   "outputs": [],
   "source": [
    "from huggingface_hub import login \n",
    "from datasets import load_dataset\n",
    "import torch\n",
    "from peft import get_peft_model, LoraConfig, TaskType\n",
    "from transformers import pipeline\n",
    "from peft import PeftModel\n",
    "from transformers import AutoModelForCausalLM, AutoTokenizer, BitsAndBytesConfig\n",
    "from transformers import Trainer , TrainingArguments"
   ]
  },
  {
   "cell_type": "code",
   "execution_count": null,
   "id": "ebaf3a76",
   "metadata": {},
   "outputs": [],
   "source": [
    "login(token=\"\") #hf token"
   ]
  },
  {
   "cell_type": "code",
   "execution_count": null,
   "id": "faa1f25f",
   "metadata": {},
   "outputs": [],
   "source": [
    "dataset = load_dataset(\"json\", data_files=\"/content/fine_tune_data.jsonl\",split=\"train\")\n",
    "\n",
    "dataset = dataset.train_test_split(test_size=0.2)"
   ]
  },
  {
   "cell_type": "code",
   "execution_count": null,
   "id": "bc05ebc5",
   "metadata": {},
   "outputs": [],
   "source": [
    "\n",
    "tokenizer = AutoTokenizer.from_pretrained(\"google/gemma-2-2b-it\")\n",
    "\n",
    "model = AutoModelForCausalLM.from_pretrained(\n",
    "    \"google/gemma-2-2b-it\",\n",
    "    device_map=\"auto\",\n",
    "    load_in_4bit=True,\n",
    "    torch_dtype=torch.float16,\n",
    "    attn_implementation=\"eager\"\n",
    ")"
   ]
  },
  {
   "cell_type": "code",
   "execution_count": null,
   "id": "d970867e",
   "metadata": {},
   "outputs": [],
   "source": [
    "lora_config = LoraConfig(\n",
    "    task_type=TaskType.CAUSAL_LM,\n",
    "    r=8,\n",
    "    lora_alpha=32,\n",
    "    lora_dropout=0.1,\n",
    "    bias = \"none\"\n",
    ")\n",
    "\n",
    "model = get_peft_model(model, lora_config)"
   ]
  },
  {
   "cell_type": "code",
   "execution_count": null,
   "id": "8822dad5",
   "metadata": {},
   "outputs": [],
   "source": [
    "def tokenize(data):\n",
    "  prompt = f\"Input: {data['input']}\\nOutput: {data['output']}\"\n",
    "  tokens = tokenizer(prompt, truncation=True, padding=\"max_length\", max_length=512)\n",
    "  tokens[\"labels\"] = tokens[\"input_ids\"].copy()\n",
    "\n",
    "  return tokens\n",
    "\n",
    "tokenized_dataset = dataset.map(tokenize)\n"
   ]
  },
  {
   "cell_type": "code",
   "execution_count": null,
   "id": "fba441c1",
   "metadata": {},
   "outputs": [],
   "source": [
    "\n",
    "\n",
    "training_args = TrainingArguments(\n",
    "    per_device_train_batch_size=2,\n",
    "    num_train_epochs=3,\n",
    "    logging_steps=10,\n",
    "    save_strategy=\"no\",\n",
    "    output_dir=\"./results\",\n",
    "    report_to=\"none\"\n",
    ")\n",
    "\n",
    "trainer = Trainer(\n",
    "    model=model,\n",
    "    args=training_args,\n",
    "    train_dataset=tokenized_dataset[\"train\"],\n",
    "    eval_dataset=tokenized_dataset[\"test\"],\n",
    "    data_collator=None\n",
    ")\n",
    "\n",
    "trainer.train()"
   ]
  },
  {
   "cell_type": "code",
   "execution_count": null,
   "id": "8a72808b",
   "metadata": {},
   "outputs": [],
   "source": [
    "model.save_pretrained(\"model\")\n",
    "tokenizer.save_pretrained(\"model\")"
   ]
  },
  {
   "cell_type": "code",
   "execution_count": null,
   "id": "9bff8a6c",
   "metadata": {},
   "outputs": [],
   "source": [
    "#testing\n",
    "pipe = pipeline('text-generation', model=model,tokenizer=tokenizer)"
   ]
  },
  {
   "cell_type": "code",
   "execution_count": null,
   "id": "70be0828",
   "metadata": {},
   "outputs": [],
   "source": [
    "\n",
    "prompt = \"\"\"\n",
    "Input: Degree: Mtech, Discipline: ECE, skills: circuit design, signal processing, embedded system, experience: 0.5, CGPA: 8.2, competitive_exam: none , future_goal: None, interest: None, financial_support: 0\n",
    "Output:\n",
    "\"\"\"\n",
    "\n",
    "response = pipe(prompt, max_new_tokens=100, do_sample=True, temperature=0.7)[0][\"generated_text\"]\n",
    "print(response)\n"
   ]
  },
  {
   "cell_type": "code",
   "execution_count": null,
   "id": "a1c2d258",
   "metadata": {},
   "outputs": [],
   "source": [
    "\n",
    "\n",
    "# Load base model \n",
    "model = AutoModelForCausalLM.from_pretrained(\"google/gemma-2-2b-it\", torch_dtype=torch.float16)\n",
    "tokenizer = AutoTokenizer.from_pretrained(\"google/gemma-2-2b-it\")\n",
    "\n",
    "# Load and merge LoRA adapter\n",
    "\n",
    "model = PeftModel.from_pretrained(model, \"model\")\n",
    "model = model.merge_and_unload()\n",
    "\n",
    "# Save the merged model properly\n",
    "model.save_pretrained(\"merged-gemma\", safe_serialization=True)\n",
    "tokenizer.save_pretrained(\"merged-gemma\")"
   ]
  },
  {
   "cell_type": "code",
   "execution_count": null,
   "id": "4412ed1d",
   "metadata": {},
   "outputs": [],
   "source": [
    "\n",
    "\n",
    "bnb_config = BitsAndBytesConfig(\n",
    "    load_in_8bit=True,           # or use load_in_4bit=True for 4-bit quantization\n",
    "    llm_int8_threshold=6.0,      # Optional: threshold for outlier splitting\n",
    "    llm_int8_has_fp16_weight=True,  # Ensures compatibility\n",
    "    device_map=\"auto\"            # Automatically maps layers to available devices\n",
    ")\n",
    "\n",
    "model_id = \"merged-gemma\" \n",
    "\n",
    "model = AutoModelForCausalLM.from_pretrained(\n",
    "    model_id,\n",
    "    quantization_config=bnb_config\n",
    ")\n",
    "\n",
    "tokenizer = AutoTokenizer.from_pretrained(model_id)\n",
    "\n",
    "\n",
    "model.save_pretrained(\"quantized_model/\")\n",
    "tokenizer.save_pretrained(\"quantized_model/\")\n"
   ]
  }
 ],
 "metadata": {
  "kernelspec": {
   "display_name": "Python 3",
   "language": "python",
   "name": "python3"
  },
  "language_info": {
   "codemirror_mode": {
    "name": "ipython",
    "version": 3
   },
   "file_extension": ".py",
   "mimetype": "text/x-python",
   "name": "python",
   "nbconvert_exporter": "python",
   "pygments_lexer": "ipython3",
   "version": "3.11.9"
  }
 },
 "nbformat": 4,
 "nbformat_minor": 5
}
